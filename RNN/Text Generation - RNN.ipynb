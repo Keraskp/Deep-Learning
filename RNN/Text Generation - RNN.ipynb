{
 "cells": [
  {
   "cell_type": "markdown",
   "id": "40f0a37a",
   "metadata": {},
   "source": [
    "# Text Generation using RNN :"
   ]
  },
  {
   "cell_type": "markdown",
   "id": "b5202b10",
   "metadata": {},
   "source": [
    "### Create the Environment :\n",
    "Since we work with text data, an Embedding layer will be required. Since we build LSTM recurrent neural networks, an LSTM layer will be required. In addition, a Dense layer will be of use to develop a classification head."
   ]
  },
  {
   "cell_type": "code",
   "execution_count": 1,
   "id": "88d95d01",
   "metadata": {},
   "outputs": [
    {
     "name": "stdout",
     "output_type": "stream",
     "text": [
      "Num GPUs Available:  1\n"
     ]
    }
   ],
   "source": [
    "import numpy as np\n",
    "import tensorflow as tf\n",
    "import warnings\n",
    "import os\n",
    "\n",
    "os.environ['TF_CPP_MIN_LOG_LEVEL'] = '3' \n",
    "warnings.simplefilter(action='ignore',category=FutureWarning)\n",
    "\n",
    "print(\"Num GPUs Available: \", len(tf.config.list_physical_devices('GPU')))\n",
    "\n",
    "physical_devices = tf.config.experimental.list_physical_devices('GPU')\n",
    "tf.config.experimental.set_memory_growth(physical_devices[0], True)\n",
    "from tensorflow import keras\n",
    "from tensorflow.keras.layers import Dense, LSTM, Embedding\n",
    "import matplotlib.pyplot as plt"
   ]
  },
  {
   "cell_type": "markdown",
   "id": "b5f20254",
   "metadata": {},
   "source": [
    "### Downloading Text file :"
   ]
  },
  {
   "cell_type": "code",
   "execution_count": 2,
   "id": "8f138786",
   "metadata": {},
   "outputs": [],
   "source": [
    "file_URL = \"https://storage.googleapis.com/download.tensorflow.org/data/shakespeare.txt\"\n",
    "file_name= \"shakespeare.txt\"\n",
    "# get the file path\n",
    "path = keras.utils.get_file(file_name, file_URL)"
   ]
  },
  {
   "cell_type": "code",
   "execution_count": 3,
   "id": "c4992d28",
   "metadata": {},
   "outputs": [
    {
     "name": "stdout",
     "output_type": "stream",
     "text": [
      "b\"\\nAll:\\nWe know't, we know't.\\n\\nFirst Citizen:\\nLet us kill him, and we'll have corn at our own price.\\nIs't a verdict?\\n\\nAll:\\nNo more talking on't; let it \"\n"
     ]
    }
   ],
   "source": [
    "raw = open(path, 'rb').read()\n",
    "print(raw[250:400])"
   ]
  },
  {
   "cell_type": "code",
   "execution_count": 4,
   "id": "87e6a3a1",
   "metadata": {},
   "outputs": [
    {
     "name": "stdout",
     "output_type": "stream",
     "text": [
      "\n",
      "All:\n",
      "We know't, we know't.\n",
      "\n",
      "First Citizen:\n",
      "Let us kill him, and we'll have corn at our own price.\n",
      "Is't a verdict?\n",
      "\n",
      "All:\n",
      "No more talking on't; let it \n"
     ]
    }
   ],
   "source": [
    "text = raw.decode(encoding='utf-8')\n",
    "print(text[250:400]) "
   ]
  },
  {
   "cell_type": "code",
   "execution_count": 5,
   "id": "beb1defe",
   "metadata": {},
   "outputs": [
    {
     "data": {
      "text/plain": [
       "1115394"
      ]
     },
     "execution_count": 5,
     "metadata": {},
     "output_type": "execute_result"
    }
   ],
   "source": [
    "len(text)"
   ]
  },
  {
   "cell_type": "markdown",
   "id": "56d4807b",
   "metadata": {},
   "source": [
    "### Vectorize Word into Integers :\n",
    "A deep learning model can not accept text characters as inputs. It should be encoded into integers that a model can understand and process with."
   ]
  },
  {
   "cell_type": "code",
   "execution_count": 6,
   "id": "9b87e1db",
   "metadata": {},
   "outputs": [
    {
     "data": {
      "text/plain": [
       "65"
      ]
     },
     "execution_count": 6,
     "metadata": {},
     "output_type": "execute_result"
    }
   ],
   "source": [
    "# unique characters\n",
    "vocabulary = np.array(sorted(set(text)))\n",
    "len(vocabulary) "
   ]
  },
  {
   "cell_type": "code",
   "execution_count": 7,
   "id": "51408108",
   "metadata": {},
   "outputs": [
    {
     "name": "stdout",
     "output_type": "stream",
     "text": [
      "['\\n' ' ' '!' '$' '&' \"'\" ',' '-' '.' '3' ':' ';' '?' 'A' 'B' 'C' 'D' 'E'\n",
      " 'F' 'G' 'H' 'I' 'J' 'K' 'L' 'M' 'N' 'O' 'P' 'Q' 'R' 'S' 'T' 'U' 'V' 'W'\n",
      " 'X' 'Y' 'Z' 'a' 'b' 'c' 'd' 'e' 'f' 'g' 'h' 'i' 'j' 'k' 'l' 'm' 'n' 'o'\n",
      " 'p' 'q' 'r' 's' 't' 'u' 'v' 'w' 'x' 'y' 'z']\n"
     ]
    }
   ],
   "source": [
    "print(vocabulary)"
   ]
  },
  {
   "cell_type": "markdown",
   "id": "88228f18",
   "metadata": {},
   "source": [
    "**Defining a Tokenizer to assign integer to each token :**"
   ]
  },
  {
   "cell_type": "code",
   "execution_count": 8,
   "id": "4d7f1f95",
   "metadata": {},
   "outputs": [],
   "source": [
    "tokenizer = {char:i for i,char in enumerate(vocabulary)}"
   ]
  },
  {
   "cell_type": "code",
   "execution_count": 9,
   "id": "f4b5040e",
   "metadata": {},
   "outputs": [
    {
     "name": "stdout",
     "output_type": "stream",
     "text": [
      "'\\n' :    0\n",
      " ' ' :    1\n",
      " '!' :    2\n",
      " '$' :    3\n",
      " '&' :    4\n",
      " \"'\" :    5\n",
      " ',' :    6\n",
      " '-' :    7\n",
      " '.' :    8\n",
      " '3' :    9\n",
      " ':' :   10\n",
      " ';' :   11\n",
      " '?' :   12\n",
      " 'A' :   13\n",
      " 'B' :   14\n",
      " 'C' :   15\n",
      " 'D' :   16\n",
      " 'E' :   17\n",
      " 'F' :   18\n",
      " 'G' :   19\n"
     ]
    }
   ],
   "source": [
    "for i in range(20):\n",
    "    char = vocabulary[i]\n",
    "    token = tokenizer[char]\n",
    "    print('%4s : %4d'%(repr(char),token))"
   ]
  },
  {
   "cell_type": "code",
   "execution_count": 10,
   "id": "5db95dfe",
   "metadata": {},
   "outputs": [
    {
     "name": "stdout",
     "output_type": "stream",
     "text": [
      "\n",
      "Sample Text \n",
      "\n",
      "----------------------------------------------------------------------\n",
      "First Citizen:\n",
      "Before we proceed any further, hear me speak.\n",
      "\n",
      "All:\n",
      "Speak, speak.\n",
      "\n",
      "First Citizen:\n",
      "You\n",
      "----------------------------------------------------------------------\n",
      "\n",
      "\n",
      "Corresponding Integer Vector \n",
      "\n",
      "----------------------------------------------------------------------\n",
      "[18 47 56 57 58  1 15 47 58 47 64 43 52 10  0 14 43 44 53 56 43  1 61 43\n",
      "  1 54 56 53 41 43 43 42  1 39 52 63  1 44 59 56 58 46 43 56  6  1 46 43\n",
      " 39 56  1 51 43  1 57 54 43 39 49  8  0  0 13 50 50 10  0 31 54 43 39 49\n",
      "  6  1 57 54 43 39 49  8  0  0 18 47 56 57 58  1 15 47 58 47 64 43 52 10\n",
      "  0 37 53 59]\n",
      "----------------------------------------------------------------------\n"
     ]
    }
   ],
   "source": [
    "vector = np.array([tokenizer[char] for char in text])\n",
    "print('\\nSample Text \\n')\n",
    "print('-'*70)\n",
    "print(text[:100])\n",
    "print('-'*70)\n",
    "print('\\n\\nCorresponding Integer Vector \\n')\n",
    "print('-'*70)\n",
    "print(vector[:100])\n",
    "print('-'*70)"
   ]
  },
  {
   "cell_type": "markdown",
   "id": "bffd2f84",
   "metadata": {},
   "source": [
    "Text with one million encoded characters can not be fed into a model as such. Since we predict characters, the text must be broken down into sequences of some predefined length and then fed into the model. Use TensorFlow’s batch method to create sequences of 100 characters each. Prior to that, convert the NumPy arrays into tensors to make further processes using TensorFlow."
   ]
  },
  {
   "cell_type": "code",
   "execution_count": 11,
   "id": "791cc25c",
   "metadata": {},
   "outputs": [],
   "source": [
    "# convert into tensors\n",
    "vector = tf.data.Dataset.from_tensor_slices(vector)\n",
    "# make sequences each of length 100 characters\n",
    "sequences = vector.batch(100, drop_remainder=True)"
   ]
  },
  {
   "cell_type": "code",
   "execution_count": 12,
   "id": "da600958",
   "metadata": {},
   "outputs": [],
   "source": [
    "def prepare_dataset(seq):\n",
    "    input_vector = seq[:-1]\n",
    "    target_vector = seq[1:]\n",
    "    return input_vector, target_vector\n",
    "dataset = sequences.map(prepare_dataset)"
   ]
  },
  {
   "cell_type": "code",
   "execution_count": 13,
   "id": "6c1578a8",
   "metadata": {},
   "outputs": [
    {
     "name": "stdout",
     "output_type": "stream",
     "text": [
      "[18 47 56 57 58  1 15 47 58 47 64 43 52 10  0 14 43 44 53 56 43  1 61 43\n",
      "  1 54 56 53 41 43 43 42  1 39 52 63  1 44 59 56 58 46 43 56  6  1 46 43\n",
      " 39 56  1 51 43  1 57 54 43 39 49  8  0  0 13 50 50 10  0 31 54 43 39 49\n",
      "  6  1 57 54 43 39 49  8  0  0 18 47 56 57 58  1 15 47 58 47 64 43 52 10\n",
      "  0 37 53]\n",
      "[47 56 57 58  1 15 47 58 47 64 43 52 10  0 14 43 44 53 56 43  1 61 43  1\n",
      " 54 56 53 41 43 43 42  1 39 52 63  1 44 59 56 58 46 43 56  6  1 46 43 39\n",
      " 56  1 51 43  1 57 54 43 39 49  8  0  0 13 50 50 10  0 31 54 43 39 49  6\n",
      "  1 57 54 43 39 49  8  0  0 18 47 56 57 58  1 15 47 58 47 64 43 52 10  0\n",
      " 37 53 59]\n",
      "'First Citizen:\\nBefore we proceed any further, hear me speak.\\n\\nAll:\\nSpeak, speak.\\n\\nFirst Citizen:\\nYo'\n",
      "'irst Citizen:\\nBefore we proceed any further, hear me speak.\\n\\nAll:\\nSpeak, speak.\\n\\nFirst Citizen:\\nYou'\n",
      "[ 1 39 56 43  1 39 50 50  1 56 43 57 53 50 60 43 42  1 56 39 58 46 43 56\n",
      "  1 58 53  1 42 47 43  1 58 46 39 52  1 58 53  1 44 39 51 47 57 46 12  0\n",
      "  0 13 50 50 10  0 30 43 57 53 50 60 43 42  8  1 56 43 57 53 50 60 43 42\n",
      "  8  0  0 18 47 56 57 58  1 15 47 58 47 64 43 52 10  0 18 47 56 57 58  6\n",
      "  1 63 53]\n",
      "[39 56 43  1 39 50 50  1 56 43 57 53 50 60 43 42  1 56 39 58 46 43 56  1\n",
      " 58 53  1 42 47 43  1 58 46 39 52  1 58 53  1 44 39 51 47 57 46 12  0  0\n",
      " 13 50 50 10  0 30 43 57 53 50 60 43 42  8  1 56 43 57 53 50 60 43 42  8\n",
      "  0  0 18 47 56 57 58  1 15 47 58 47 64 43 52 10  0 18 47 56 57 58  6  1\n",
      " 63 53 59]\n",
      "' are all resolved rather to die than to famish?\\n\\nAll:\\nResolved. resolved.\\n\\nFirst Citizen:\\nFirst, yo'\n",
      "'are all resolved rather to die than to famish?\\n\\nAll:\\nResolved. resolved.\\n\\nFirst Citizen:\\nFirst, you'\n"
     ]
    }
   ],
   "source": [
    "for inp, tar in dataset.take(2):\n",
    "    print(inp.numpy())\n",
    "    print(tar.numpy())\n",
    "    inp_text = ''.join(vocabulary[inp])\n",
    "    tar_text = ''.join(vocabulary[tar])\n",
    "    print(repr(inp_text))\n",
    "    print(repr(tar_text))"
   ]
  },
  {
   "cell_type": "markdown",
   "id": "445b1c13",
   "metadata": {},
   "source": [
    "### Batch and Pre-fetch data :\n",
    "Model will be trained with Stochastic Gradient Descent (SGD) based optimizer Adam. It requires the input data to be batched. Further, TensorFlow’s prefetch method helps training with optimized memory. It fetches data batches just before the training requires them. We prefer not to shuffle the data to retain the contextual order of sequences."
   ]
  },
  {
   "cell_type": "code",
   "execution_count": 14,
   "id": "79173c04",
   "metadata": {},
   "outputs": [
    {
     "name": "stdout",
     "output_type": "stream",
     "text": [
      "(64, 99)\n",
      "(64, 99)\n"
     ]
    }
   ],
   "source": [
    "AUTOTUNE = tf.data.AUTOTUNE\n",
    "# buffer size 10000\n",
    "# batch size 64\n",
    "data = dataset.batch(64, drop_remainder=True).repeat()\n",
    "data = data.prefetch(AUTOTUNE)\n",
    "# steps per epoch is number of batches available\n",
    "STEPS_PER_EPOCH = len(sequences)//64\n",
    "for inp, tar in data.take(1):\n",
    "    print(inp.numpy().shape)\n",
    "    print(tar.numpy().shape)"
   ]
  },
  {
   "cell_type": "code",
   "execution_count": 15,
   "id": "8b5e1dcb",
   "metadata": {},
   "outputs": [
    {
     "name": "stdout",
     "output_type": "stream",
     "text": [
      "[[18 47 56 ...  0 37 53]\n",
      " [ 1 39 56 ...  1 63 53]\n",
      " [ 1 49 52 ... 58  1 59]\n",
      " ...\n",
      " [ 1 57 51 ...  1 39 50]\n",
      " [ 1 39 58 ...  1 61 43]\n",
      " [50  8  0 ... 42 47 58]]\n",
      "[[47 56 57 ... 37 53 59]\n",
      " [39 56 43 ... 63 53 59]\n",
      " [49 52 53 ...  1 59 57]\n",
      " ...\n",
      " [57 51 39 ... 39 50 50]\n",
      " [39 58  1 ... 61 43 50]\n",
      " [ 8  0  0 ... 47 58  1]]\n",
      "'First Citizen:\\nBefore we proceed any further, hear me speak.\\n\\nAll:\\nSpeak, speak.\\n\\nFirst Citizen:\\nYo'\n",
      "'irst Citizen:\\nBefore we proceed any further, hear me speak.\\n\\nAll:\\nSpeak, speak.\\n\\nFirst Citizen:\\nYou'\n",
      "[[59 54  6 ... 58 53  5]\n",
      " [12  0  0 ...  1 45 53]\n",
      " [42  1 40 ...  1 56 47]\n",
      " ...\n",
      " [57  1 56 ... 58 46 43]\n",
      " [ 1 52 53 ... 26 21 33]\n",
      " [10  0 24 ...  6  1 46]]\n",
      "[[54  6  1 ... 53  5 58]\n",
      " [ 0  0 18 ... 45 53 53]\n",
      " [ 1 40 43 ... 56 47 45]\n",
      " ...\n",
      " [ 1 56 53 ... 46 43 51]\n",
      " [52 53 58 ... 21 33 31]\n",
      " [ 0 24 43 ...  1 46 43]]\n",
      "\"up, that all\\nFrom me do back receive the flour of all,\\nAnd leave me but the bran.' What say you to'\"\n",
      "\"p, that all\\nFrom me do back receive the flour of all,\\nAnd leave me but the bran.' What say you to't\"\n"
     ]
    }
   ],
   "source": [
    "for inp, tar in data.take(2):\n",
    "    print(inp.numpy())\n",
    "    print(tar.numpy())\n",
    "    inp_text = ''.join(vocabulary[inp][0])\n",
    "    tar_text = ''.join(vocabulary[tar][0])\n",
    "    print(repr(inp_text))\n",
    "    print(repr(tar_text))"
   ]
  },
  {
   "cell_type": "markdown",
   "id": "ed930da2",
   "metadata": {},
   "source": [
    "### Build an RNN Model: \n",
    "Recurrent neural networks are good at modeling time-dependent data because of its ability to retain time-steps based information in memory. Since texts have contextual information that are determined purely by order of the words, natural language processing heavily relies on sequence modeling architectures such as RNN. Here, an LSTM (Long Short-Term Memory) layers-based recurrent neural network is developed to model the task. While implementing LSTM layers, we enable stateful argument as True to keep the time-step memory of previous states while learning with consequent batches in an epoch. "
   ]
  },
  {
   "cell_type": "code",
   "execution_count": 16,
   "id": "95a11be9",
   "metadata": {},
   "outputs": [
    {
     "name": "stdout",
     "output_type": "stream",
     "text": [
      "Model: \"sequential\"\n",
      "_________________________________________________________________\n",
      " Layer (type)                Output Shape              Param #   \n",
      "=================================================================\n",
      " embedding (Embedding)       (64, None, 64)            4160      \n",
      "                                                                 \n",
      " lstm (LSTM)                 (64, None, 512)           1181696   \n",
      "                                                                 \n",
      " lstm_1 (LSTM)               (64, None, 512)           2099200   \n",
      "                                                                 \n",
      " dense (Dense)               (64, None, 65)            33345     \n",
      "                                                                 \n",
      "=================================================================\n",
      "Total params: 3,318,401\n",
      "Trainable params: 3,318,401\n",
      "Non-trainable params: 0\n",
      "_________________________________________________________________\n"
     ]
    }
   ],
   "source": [
    "model = keras.Sequential([\n",
    "     # Embed len(vocabulary) into 64 dimensions\n",
    "     Embedding(len(vocabulary), 64, batch_input_shape=[64,None]),\n",
    "     # LSTM RNN layers\n",
    "     LSTM(512, return_sequences=True, stateful=True),\n",
    "     LSTM(512, return_sequences=True, stateful=True),\n",
    "     # Classification head\n",
    "     Dense(len(vocabulary))\n",
    "])\n",
    "model.summary() "
   ]
  },
  {
   "cell_type": "code",
   "execution_count": 17,
   "id": "bec58a71",
   "metadata": {},
   "outputs": [
    {
     "data": {
      "image/png": "[encoded data removed]",
      "text/plain": [
       "<IPython.core.display.Image object>"
      ]
     },
     "execution_count": 17,
     "metadata": {},
     "output_type": "execute_result"
    }
   ],
   "source": [
    "keras.utils.plot_model(model, show_shapes=True, dpi=64)"
   ]
  },
  {
   "cell_type": "code",
   "execution_count": 18,
   "id": "f7af9e46",
   "metadata": {},
   "outputs": [
    {
     "name": "stdout",
     "output_type": "stream",
     "text": [
      "(64, 99)\n",
      "(64, 99, 65)\n"
     ]
    }
   ],
   "source": [
    "# test whether the untrained model performs good\n",
    "for example_inp, example_tar in data.take(1):\n",
    "    example_pred = model(example_inp)\n",
    "    print(example_tar.numpy().shape)\n",
    "    print(example_pred.shape) "
   ]
  },
  {
   "cell_type": "markdown",
   "id": "48e5cb45",
   "metadata": {},
   "source": [
    "The target shape is (64, 99), which refers to the batch size and the number of characters in that sequence. The last shape, 65, in the prediction refers to the size of the vocabulary. The model predicts the probability of occurrence of each character in the vocabulary. The character with a higher probability has more possibility to be the next character."
   ]
  },
  {
   "cell_type": "code",
   "execution_count": 19,
   "id": "6f593cfc",
   "metadata": {},
   "outputs": [
    {
     "name": "stdout",
     "output_type": "stream",
     "text": [
      "Epoch 1/10\n",
      "174/174 [==============================] - 20s 99ms/step - loss: 3.1511\n",
      "Epoch 2/10\n",
      "174/174 [==============================] - 17s 100ms/step - loss: 2.3301\n",
      "Epoch 3/10\n",
      "174/174 [==============================] - 18s 101ms/step - loss: 2.0467\n",
      "Epoch 4/10\n",
      "174/174 [==============================] - 18s 102ms/step - loss: 1.8529\n",
      "Epoch 5/10\n",
      "174/174 [==============================] - 18s 103ms/step - loss: 1.7093\n",
      "Epoch 6/10\n",
      "174/174 [==============================] - 19s 108ms/step - loss: 1.6039\n",
      "Epoch 7/10\n",
      "174/174 [==============================] - 19s 111ms/step - loss: 1.5261\n",
      "Epoch 8/10\n",
      "174/174 [==============================] - 20s 112ms/step - loss: 1.4674\n",
      "Epoch 9/10\n",
      "174/174 [==============================] - 20s 114ms/step - loss: 1.4212\n",
      "Epoch 10/10\n",
      "174/174 [==============================] - 20s 114ms/step - loss: 1.3824\n"
     ]
    }
   ],
   "source": [
    "model.compile(optimizer='adam', loss=keras.losses.SparseCategoricalCrossentropy(from_logits=True))\n",
    "history = model.fit(data, epochs=10, steps_per_epoch=STEPS_PER_EPOCH)"
   ]
  },
  {
   "cell_type": "markdown",
   "id": "7943bf00",
   "metadata": {},
   "source": [
    "### Model Performance Evaluation :"
   ]
  },
  {
   "cell_type": "code",
   "execution_count": 20,
   "id": "87f3ef14",
   "metadata": {},
   "outputs": [
    {
     "data": {
      "image/png": "[encoded data removed]",
      "text/plain": [
       "<Figure size 432x288 with 1 Axes>"
      ]
     },
     "metadata": {
      "needs_background": "light"
     },
     "output_type": "display_data"
    }
   ],
   "source": [
    "plt.plot(history.history['loss'], '+-r')\n",
    "plt.title('Performance Analysis', size=16, color='green')\n",
    "plt.xlabel('Epochs', size=14, color='blue')\n",
    "plt.ylabel('Loss', size=14, color='blue')\n",
    "plt.xticks(range(10))\n",
    "plt.show() "
   ]
  },
  {
   "cell_type": "markdown",
   "id": "00f62fc2",
   "metadata": {},
   "source": [
    "Loss keeps on falling down even till the 10th epoch. It suggests that the model should be trained for more epochs until convergence occurs. The smoothness in the loss curve suggests that the learning rate is proper for this model configuration."
   ]
  },
  {
   "cell_type": "markdown",
   "id": "1e3ee115",
   "metadata": {},
   "source": [
    "### Inference – Next Character Prediction :\n",
    "The most awaited part of this task is predicting the next character with the trained model. We can input the model some characters (probably a word) such that it will iteratively predict the next 1000 characters.\n",
    "\n",
    "Before starting prediction with the model, we should reset the model states that were stored in the memory during the last epoch training. However, resetting state memories will not affect the model’s weights."
   ]
  },
  {
   "cell_type": "code",
   "execution_count": 21,
   "id": "e3d05acf",
   "metadata": {},
   "outputs": [],
   "source": [
    "# reset previous states of model\n",
    "model.reset_states() "
   ]
  },
  {
   "cell_type": "markdown",
   "id": "df523196",
   "metadata": {},
   "source": [
    "Make predictions by providing the model ‘ANTHONIO:’ as input characters. Nevertheless, the model expects data in three dimensions: the first dimension being the batch size, 64. Vectorize the input characters, expand the dimensions, broadcast the same vector 64 times to obtain a batch of size 64 sequences. Predictions are made based on the logits output by the model. This can be sensitively adjusted by tuning a hyper-parameter called temperature, which refers to the level of randomness in choosing the probable outcome."
   ]
  },
  {
   "cell_type": "code",
   "execution_count": 22,
   "id": "8c9d43e5",
   "metadata": {},
   "outputs": [],
   "source": [
    "sample = 'ANTHONIO:'\n",
    "\n",
    "# vectorize the string\n",
    "sample_vector = [tokenizer[s] for s in sample]\n",
    "predicted = sample_vector\n",
    "\n",
    "# convert into tensor of required dimensions\n",
    "sample_tensor = tf.expand_dims(sample_vector, 0) \n",
    "# broadcast to first dimension to 64 \n",
    "sample_tensor = tf.repeat(sample_tensor, 64, axis=0)"
   ]
  },
  {
   "cell_type": "code",
   "execution_count": 23,
   "id": "e4d4ff80",
   "metadata": {},
   "outputs": [],
   "source": [
    "# predict next 1000 characters\n",
    "# temperature is a sensitive variable to adjust prediction\n",
    "temperature = 0.6\n",
    "\n",
    "for i in range(1000):\n",
    "    pred = model(sample_tensor)\n",
    "    # reduce unnecessary dimensions\n",
    "    pred = pred[0].numpy()/temperature\n",
    "    pred = tf.random.categorical(pred, num_samples=1)[-1,0].numpy()\n",
    "    predicted.append(pred)\n",
    "    sample_tensor = predicted[-99:]\n",
    "    sample_tensor = tf.expand_dims([pred],0)\n",
    "    # broadcast to first dimension to 64 \n",
    "    sample_tensor = tf.repeat(sample_tensor, 64, axis=0)"
   ]
  },
  {
   "cell_type": "code",
   "execution_count": 24,
   "id": "f85796cd",
   "metadata": {},
   "outputs": [
    {
     "name": "stdout",
     "output_type": "stream",
     "text": [
      "ANTHONIO:\n",
      "Now, if the truth of the world:\n",
      "But thou wilt stand hanged the earth.\n",
      "\n",
      "TRANIO:\n",
      "That you not is the weary. O, thou hast dead?\n",
      "\n",
      "LUCENTIO:\n",
      "But this is the dishonour master with this?\n",
      "\n",
      "BIONDELLO:\n",
      "The banns of grave to hear the world.\n",
      "\n",
      "GRUMIO:\n",
      "Thou takest thou that thou dost speak and boward\n",
      "in depending thought they fly;\n",
      "What will you see him that thou hast offended.\n",
      "\n",
      "ANTONIO:\n",
      "I cannot thou have welcome thee with them.\n",
      "\n",
      "ANTONIO:\n",
      "Lack; the stricken child, and sent the best and night.\n",
      "\n",
      "BAPTISTA:\n",
      "Now, to the sea, she shall be sorry should believe thee to be attend;\n",
      "And then, who have been so better thing.\n",
      "\n",
      "PETRUCHIO:\n",
      "Call her hand, his tale,\n",
      "And therefore farewell: if you did not\n",
      "more than me how thou comest with the house of our book.\n",
      "\n",
      "DUKE VINCENTIO:\n",
      "Besides the strike confession of his old\n",
      "That we that fair and here in the prince of my\n",
      "sight is she shall be both husband'd yourselves.\n",
      "\n",
      "BAPTISTA:\n",
      "I know you the house of my wife and say the day\n",
      "That he shall find me spectagunes, sir, thus is\n"
     ]
    }
   ],
   "source": [
    "# convert the integers back to characters\n",
    "pred_char = [vocabulary[i] for i in predicted]\n",
    "generated = ''.join(pred_char)\n",
    "print(generated)"
   ]
  },
  {
   "cell_type": "code",
   "execution_count": null,
   "id": "800d39e2",
   "metadata": {},
   "outputs": [],
   "source": []
  }
 ],
 "metadata": {
  "kernelspec": {
   "display_name": "NLP",
   "language": "python",
   "name": "nlp"
  },
  "language_info": {
   "codemirror_mode": {
    "name": "ipython",
    "version": 3
   },
   "file_extension": ".py",
   "mimetype": "text/x-python",
   "name": "python",
   "nbconvert_exporter": "python",
   "pygments_lexer": "ipython3",
   "version": "3.10.4"
  }
 },
 "nbformat": 4,
 "nbformat_minor": 5
}
