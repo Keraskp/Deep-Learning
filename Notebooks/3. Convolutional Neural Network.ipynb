{
 "cells": [
  {
   "cell_type": "code",
   "execution_count": 1,
   "metadata": {
    "id": "9iOb2J1vKRjf"
   },
   "outputs": [],
   "source": [
    "import tensorflow as tf\n",
    "import numpy as np\n",
    "import pandas as pd\n",
    "import matplotlib.pyplot as plt"
   ]
  },
  {
   "cell_type": "markdown",
   "metadata": {
    "id": "VYSnedBbLeMY"
   },
   "source": [
    "**Load dataset**"
   ]
  },
  {
   "cell_type": "code",
   "execution_count": 2,
   "metadata": {
    "colab": {
     "base_uri": "https://localhost:8080/"
    },
    "id": "NV84m7vYKhRM",
    "outputId": "f1c8cc01-473c-41a9-e7c6-07fe27384016"
   },
   "outputs": [
    {
     "name": "stdout",
     "output_type": "stream",
     "text": [
      "Downloading data from https://storage.googleapis.com/tensorflow/tf-keras-datasets/mnist.npz\n",
      "11493376/11490434 [==============================] - 0s 0us/step\n",
      "11501568/11490434 [==============================] - 0s 0us/step\n"
     ]
    }
   ],
   "source": [
    "(train_data,train_label),(test_data,test_label) = tf.keras.datasets.mnist.load_data()"
   ]
  },
  {
   "cell_type": "code",
   "execution_count": 3,
   "metadata": {
    "colab": {
     "base_uri": "https://localhost:8080/"
    },
    "id": "T421JelNLkzp",
    "outputId": "8939e53c-04cf-4dfb-b044-377b3a73e13c"
   },
   "outputs": [
    {
     "data": {
      "text/plain": [
       "((60000, 28, 28), (60000,), (10000, 28, 28), (10000,))"
      ]
     },
     "execution_count": 3,
     "metadata": {},
     "output_type": "execute_result"
    }
   ],
   "source": [
    "train_data.shape,train_label.shape,test_data.shape,test_label.shape"
   ]
  },
  {
   "cell_type": "markdown",
   "metadata": {
    "id": "nJQ07V59MWQ0"
   },
   "source": [
    "**Single layer logistic regression model**"
   ]
  },
  {
   "cell_type": "code",
   "execution_count": 4,
   "metadata": {
    "id": "hZPd4H2mMVg5"
   },
   "outputs": [],
   "source": [
    "from keras import Sequential\n",
    "from keras.layers import Input,Dense,Flatten"
   ]
  },
  {
   "cell_type": "code",
   "execution_count": 5,
   "metadata": {
    "id": "xrC4FXx1NDL0"
   },
   "outputs": [],
   "source": [
    "train_label=tf.one_hot(train_label,depth=10)\n",
    "test_label=tf.one_hot(test_label,depth=10)\n",
    "train_data=tf.cast(train_data/255.0,dtype=tf.float32)\n",
    "test_data=tf.cast(test_data/255.0,dtype=tf.float32)"
   ]
  },
  {
   "cell_type": "code",
   "execution_count": 6,
   "metadata": {
    "colab": {
     "base_uri": "https://localhost:8080/"
    },
    "id": "szkmvoxnNf4I",
    "outputId": "4a739f2b-5112-4e50-85ce-cb3142b0bf93"
   },
   "outputs": [
    {
     "data": {
      "text/plain": [
       "TensorShape([60000, 28, 28])"
      ]
     },
     "execution_count": 6,
     "metadata": {},
     "output_type": "execute_result"
    }
   ],
   "source": [
    "train_data.shape"
   ]
  },
  {
   "cell_type": "code",
   "execution_count": 7,
   "metadata": {
    "id": "M_PZnFwbLmDQ"
   },
   "outputs": [],
   "source": [
    "def single_layer_model():\n",
    "  model = Sequential()\n",
    "  model.add(Flatten(input_shape=(28,28)))\n",
    "  model.add(Dense(10,activation='softmax'))\n",
    "  model.compile(loss = tf.keras.losses.CategoricalCrossentropy(),optimizer = 'adam', metrics = ['accuracy'])\n",
    "  return model"
   ]
  },
  {
   "cell_type": "code",
   "execution_count": 8,
   "metadata": {
    "colab": {
     "base_uri": "https://localhost:8080/"
    },
    "id": "45p5q4xyObzq",
    "outputId": "d5836651-2b88-4ee7-b9fe-f7bababcbf45"
   },
   "outputs": [
    {
     "name": "stdout",
     "output_type": "stream",
     "text": [
      "Epoch 1/30\n",
      "1875/1875 [==============================] - 16s 7ms/step - loss: 0.4691 - accuracy: 0.8769 - val_loss: 0.3101 - val_accuracy: 0.9154\n",
      "Epoch 2/30\n",
      "1875/1875 [==============================] - 15s 8ms/step - loss: 0.3044 - accuracy: 0.9143 - val_loss: 0.2827 - val_accuracy: 0.9216\n",
      "Epoch 3/30\n",
      "1875/1875 [==============================] - 8s 4ms/step - loss: 0.2834 - accuracy: 0.9204 - val_loss: 0.2708 - val_accuracy: 0.9249\n",
      "Epoch 4/30\n",
      "1875/1875 [==============================] - 6s 3ms/step - loss: 0.2732 - accuracy: 0.9240 - val_loss: 0.2682 - val_accuracy: 0.9256\n",
      "Epoch 5/30\n",
      "1875/1875 [==============================] - 6s 3ms/step - loss: 0.2671 - accuracy: 0.9258 - val_loss: 0.2695 - val_accuracy: 0.9265\n",
      "Epoch 6/30\n",
      "1875/1875 [==============================] - 7s 4ms/step - loss: 0.2619 - accuracy: 0.9278 - val_loss: 0.2673 - val_accuracy: 0.9259\n",
      "Epoch 7/30\n",
      "1875/1875 [==============================] - 6s 3ms/step - loss: 0.2586 - accuracy: 0.9281 - val_loss: 0.2629 - val_accuracy: 0.9279\n",
      "Epoch 8/30\n",
      "1875/1875 [==============================] - 7s 4ms/step - loss: 0.2555 - accuracy: 0.9291 - val_loss: 0.2642 - val_accuracy: 0.9269\n",
      "Epoch 9/30\n",
      "1875/1875 [==============================] - 7s 4ms/step - loss: 0.2532 - accuracy: 0.9297 - val_loss: 0.2638 - val_accuracy: 0.9278\n",
      "Epoch 10/30\n",
      "1875/1875 [==============================] - 6s 3ms/step - loss: 0.2510 - accuracy: 0.9305 - val_loss: 0.2679 - val_accuracy: 0.9265\n",
      "Epoch 11/30\n",
      "1875/1875 [==============================] - 6s 3ms/step - loss: 0.2494 - accuracy: 0.9310 - val_loss: 0.2640 - val_accuracy: 0.9262\n",
      "Epoch 12/30\n",
      "1875/1875 [==============================] - 7s 4ms/step - loss: 0.2477 - accuracy: 0.9315 - val_loss: 0.2647 - val_accuracy: 0.9280\n",
      "Epoch 13/30\n",
      "1875/1875 [==============================] - 7s 4ms/step - loss: 0.2467 - accuracy: 0.9319 - val_loss: 0.2642 - val_accuracy: 0.9270\n",
      "Epoch 14/30\n",
      "1875/1875 [==============================] - 7s 4ms/step - loss: 0.2454 - accuracy: 0.9317 - val_loss: 0.2654 - val_accuracy: 0.9273\n",
      "Epoch 15/30\n",
      "1875/1875 [==============================] - 7s 4ms/step - loss: 0.2438 - accuracy: 0.9323 - val_loss: 0.2667 - val_accuracy: 0.9274\n",
      "Epoch 16/30\n",
      "1875/1875 [==============================] - 6s 3ms/step - loss: 0.2435 - accuracy: 0.9328 - val_loss: 0.2637 - val_accuracy: 0.9275\n",
      "Epoch 17/30\n",
      "1875/1875 [==============================] - 7s 4ms/step - loss: 0.2420 - accuracy: 0.9331 - val_loss: 0.2665 - val_accuracy: 0.9281\n",
      "Epoch 18/30\n",
      "1875/1875 [==============================] - 7s 4ms/step - loss: 0.2410 - accuracy: 0.9331 - val_loss: 0.2705 - val_accuracy: 0.9270\n",
      "Epoch 19/30\n",
      "1875/1875 [==============================] - 13s 7ms/step - loss: 0.2405 - accuracy: 0.9337 - val_loss: 0.2694 - val_accuracy: 0.9271\n",
      "Epoch 20/30\n",
      "1875/1875 [==============================] - 7s 4ms/step - loss: 0.2399 - accuracy: 0.9333 - val_loss: 0.2671 - val_accuracy: 0.9274\n",
      "Epoch 21/30\n",
      "1875/1875 [==============================] - 6s 3ms/step - loss: 0.2391 - accuracy: 0.9337 - val_loss: 0.2697 - val_accuracy: 0.9277\n",
      "Epoch 22/30\n",
      "1875/1875 [==============================] - 6s 3ms/step - loss: 0.2385 - accuracy: 0.9344 - val_loss: 0.2678 - val_accuracy: 0.9278\n",
      "Epoch 23/30\n",
      "1875/1875 [==============================] - 7s 4ms/step - loss: 0.2378 - accuracy: 0.9347 - val_loss: 0.2731 - val_accuracy: 0.9248\n",
      "Epoch 24/30\n",
      "1875/1875 [==============================] - 7s 4ms/step - loss: 0.2376 - accuracy: 0.9345 - val_loss: 0.2757 - val_accuracy: 0.9246\n",
      "Epoch 25/30\n",
      "1875/1875 [==============================] - 6s 3ms/step - loss: 0.2366 - accuracy: 0.9351 - val_loss: 0.2732 - val_accuracy: 0.9271\n",
      "Epoch 26/30\n",
      "1875/1875 [==============================] - 8s 4ms/step - loss: 0.2362 - accuracy: 0.9345 - val_loss: 0.2695 - val_accuracy: 0.9270\n",
      "Epoch 27/30\n",
      "1875/1875 [==============================] - 10s 5ms/step - loss: 0.2355 - accuracy: 0.9346 - val_loss: 0.2736 - val_accuracy: 0.9267\n",
      "Epoch 28/30\n",
      "1875/1875 [==============================] - 9s 5ms/step - loss: 0.2355 - accuracy: 0.9351 - val_loss: 0.2703 - val_accuracy: 0.9286\n",
      "Epoch 29/30\n",
      "1875/1875 [==============================] - 7s 4ms/step - loss: 0.2349 - accuracy: 0.9350 - val_loss: 0.2767 - val_accuracy: 0.9279\n",
      "Epoch 30/30\n",
      "1875/1875 [==============================] - 6s 3ms/step - loss: 0.2348 - accuracy: 0.9354 - val_loss: 0.2742 - val_accuracy: 0.9277\n"
     ]
    }
   ],
   "source": [
    "model1 = single_layer_model()\n",
    "history1 = model1.fit(train_data,train_label,epochs=30,validation_data = (test_data,test_label))"
   ]
  },
  {
   "cell_type": "markdown",
   "metadata": {
    "id": "PHGBI30vPnJn"
   },
   "source": [
    "**Deep neural network**"
   ]
  },
  {
   "cell_type": "code",
   "execution_count": 9,
   "metadata": {
    "id": "E6rRdzosOz_H"
   },
   "outputs": [],
   "source": [
    "def DNN_model():\n",
    "  model = Sequential()\n",
    "  model.add(Flatten(input_shape=(28,28)))\n",
    "  model.add(Dense(30,activation='relu'))\n",
    "  model.add(Dense(90,activation='relu'))\n",
    "  model.add(Dense(60,activation='relu'))\n",
    "  model.add(Dense(30,activation='relu'))\n",
    "  model.add(Dense(10,activation='softmax'))\n",
    "  model.compile(loss = tf.keras.losses.CategoricalCrossentropy(),optimizer = 'adam', metrics = ['accuracy'])\n",
    "  return model"
   ]
  },
  {
   "cell_type": "code",
   "execution_count": 10,
   "metadata": {
    "colab": {
     "base_uri": "https://localhost:8080/"
    },
    "id": "bJoELprAQMum",
    "outputId": "3d10abc8-28f5-4af2-e914-acdd1f9ad68d"
   },
   "outputs": [
    {
     "name": "stdout",
     "output_type": "stream",
     "text": [
      "Epoch 1/30\n",
      "1875/1875 [==============================] - 9s 4ms/step - loss: 0.3214 - accuracy: 0.9030 - val_loss: 0.1780 - val_accuracy: 0.9474\n",
      "Epoch 2/30\n",
      "1875/1875 [==============================] - 12s 6ms/step - loss: 0.1565 - accuracy: 0.9532 - val_loss: 0.1524 - val_accuracy: 0.9548\n",
      "Epoch 3/30\n",
      "1875/1875 [==============================] - 12s 6ms/step - loss: 0.1227 - accuracy: 0.9633 - val_loss: 0.1438 - val_accuracy: 0.9561\n",
      "Epoch 4/30\n",
      "1875/1875 [==============================] - 12s 7ms/step - loss: 0.1043 - accuracy: 0.9678 - val_loss: 0.1195 - val_accuracy: 0.9643\n",
      "Epoch 5/30\n",
      "1875/1875 [==============================] - 8s 4ms/step - loss: 0.0894 - accuracy: 0.9726 - val_loss: 0.1246 - val_accuracy: 0.9623\n",
      "Epoch 6/30\n",
      "1875/1875 [==============================] - 8s 4ms/step - loss: 0.0784 - accuracy: 0.9757 - val_loss: 0.1146 - val_accuracy: 0.9678\n",
      "Epoch 7/30\n",
      "1875/1875 [==============================] - 8s 4ms/step - loss: 0.0692 - accuracy: 0.9784 - val_loss: 0.1196 - val_accuracy: 0.9641\n",
      "Epoch 8/30\n",
      "1875/1875 [==============================] - 7s 4ms/step - loss: 0.0639 - accuracy: 0.9798 - val_loss: 0.1071 - val_accuracy: 0.9689\n",
      "Epoch 9/30\n",
      "1875/1875 [==============================] - 8s 4ms/step - loss: 0.0576 - accuracy: 0.9817 - val_loss: 0.1238 - val_accuracy: 0.9651\n",
      "Epoch 10/30\n",
      "1875/1875 [==============================] - 8s 4ms/step - loss: 0.0528 - accuracy: 0.9833 - val_loss: 0.1149 - val_accuracy: 0.9692\n",
      "Epoch 11/30\n",
      "1875/1875 [==============================] - 8s 4ms/step - loss: 0.0490 - accuracy: 0.9845 - val_loss: 0.1126 - val_accuracy: 0.9704\n",
      "Epoch 12/30\n",
      "1875/1875 [==============================] - 7s 4ms/step - loss: 0.0444 - accuracy: 0.9860 - val_loss: 0.1298 - val_accuracy: 0.9685\n",
      "Epoch 13/30\n",
      "1875/1875 [==============================] - 8s 4ms/step - loss: 0.0405 - accuracy: 0.9874 - val_loss: 0.1245 - val_accuracy: 0.9687\n",
      "Epoch 14/30\n",
      "1875/1875 [==============================] - 10s 5ms/step - loss: 0.0387 - accuracy: 0.9875 - val_loss: 0.1182 - val_accuracy: 0.9707\n",
      "Epoch 15/30\n",
      "1875/1875 [==============================] - 7s 4ms/step - loss: 0.0358 - accuracy: 0.9883 - val_loss: 0.1237 - val_accuracy: 0.9708\n",
      "Epoch 16/30\n",
      "1875/1875 [==============================] - 8s 4ms/step - loss: 0.0340 - accuracy: 0.9885 - val_loss: 0.1220 - val_accuracy: 0.9715\n",
      "Epoch 17/30\n",
      "1875/1875 [==============================] - 8s 4ms/step - loss: 0.0337 - accuracy: 0.9892 - val_loss: 0.1210 - val_accuracy: 0.9714\n",
      "Epoch 18/30\n",
      "1875/1875 [==============================] - 8s 4ms/step - loss: 0.0310 - accuracy: 0.9899 - val_loss: 0.1311 - val_accuracy: 0.9706\n",
      "Epoch 19/30\n",
      "1875/1875 [==============================] - 8s 4ms/step - loss: 0.0299 - accuracy: 0.9901 - val_loss: 0.1488 - val_accuracy: 0.9668\n",
      "Epoch 20/30\n",
      "1875/1875 [==============================] - 8s 4ms/step - loss: 0.0282 - accuracy: 0.9905 - val_loss: 0.1381 - val_accuracy: 0.9714\n",
      "Epoch 21/30\n",
      "1875/1875 [==============================] - 8s 4ms/step - loss: 0.0282 - accuracy: 0.9906 - val_loss: 0.1334 - val_accuracy: 0.9709\n",
      "Epoch 22/30\n",
      "1875/1875 [==============================] - 8s 4ms/step - loss: 0.0232 - accuracy: 0.9925 - val_loss: 0.1354 - val_accuracy: 0.9729\n",
      "Epoch 23/30\n",
      "1875/1875 [==============================] - 9s 5ms/step - loss: 0.0250 - accuracy: 0.9918 - val_loss: 0.1324 - val_accuracy: 0.9743\n",
      "Epoch 24/30\n",
      "1875/1875 [==============================] - 9s 5ms/step - loss: 0.0240 - accuracy: 0.9921 - val_loss: 0.1459 - val_accuracy: 0.9718\n",
      "Epoch 25/30\n",
      "1875/1875 [==============================] - 9s 5ms/step - loss: 0.0242 - accuracy: 0.9923 - val_loss: 0.1608 - val_accuracy: 0.9694\n",
      "Epoch 26/30\n",
      "1875/1875 [==============================] - 8s 4ms/step - loss: 0.0219 - accuracy: 0.9929 - val_loss: 0.1711 - val_accuracy: 0.9681\n",
      "Epoch 27/30\n",
      "1875/1875 [==============================] - 9s 5ms/step - loss: 0.0222 - accuracy: 0.9926 - val_loss: 0.1630 - val_accuracy: 0.9690\n",
      "Epoch 28/30\n",
      "1875/1875 [==============================] - 8s 4ms/step - loss: 0.0209 - accuracy: 0.9933 - val_loss: 0.1523 - val_accuracy: 0.9691\n",
      "Epoch 29/30\n",
      "1875/1875 [==============================] - 8s 4ms/step - loss: 0.0208 - accuracy: 0.9930 - val_loss: 0.1438 - val_accuracy: 0.9725\n",
      "Epoch 30/30\n",
      "1875/1875 [==============================] - 8s 4ms/step - loss: 0.0187 - accuracy: 0.9936 - val_loss: 0.1703 - val_accuracy: 0.9662\n"
     ]
    }
   ],
   "source": [
    "model2 = DNN_model()\n",
    "history2 = model2.fit(train_data,train_label,epochs=30,validation_data = (test_data,test_label))"
   ]
  },
  {
   "cell_type": "code",
   "execution_count": 11,
   "metadata": {
    "colab": {
     "base_uri": "https://localhost:8080/",
     "height": 265
    },
    "id": "1KtvwUx-QR94",
    "outputId": "4ffdbbd6-e2ce-481d-8cd7-207bcd4e8b9e"
   },
   "outputs": [
    {
     "data": {
      "image/png": "[encoded data removed]",
      "text/plain": [
       "<Figure size 432x288 with 1 Axes>"
      ]
     },
     "metadata": {
      "needs_background": "light"
     },
     "output_type": "display_data"
    }
   ],
   "source": [
    "plt.plot(history1.history['accuracy'])\n",
    "plt.plot(history2.history['accuracy'])\n",
    "plt.legend(['model1','model2'])\n",
    "plt.show()"
   ]
  },
  {
   "cell_type": "markdown",
   "metadata": {
    "id": "v6WsencNXGPn"
   },
   "source": [
    "**leNet**"
   ]
  },
  {
   "cell_type": "code",
   "execution_count": 12,
   "metadata": {
    "colab": {
     "base_uri": "https://localhost:8080/"
    },
    "id": "nMNSaJuvXzgT",
    "outputId": "dafb6739-c3d3-417f-9121-89c05df518e2"
   },
   "outputs": [
    {
     "data": {
      "text/plain": [
       "TensorShape([60000, 28, 28])"
      ]
     },
     "execution_count": 12,
     "metadata": {},
     "output_type": "execute_result"
    }
   ],
   "source": [
    "train_data.shape"
   ]
  },
  {
   "cell_type": "code",
   "execution_count": 13,
   "metadata": {
    "id": "igfB2M42SEja"
   },
   "outputs": [],
   "source": [
    "def leNet(image):\n",
    "  image = tf.reshape(image,[-1,28,28,1])\n",
    "  layer1 = tf.keras.layers.Conv2D(6, 5, activation='relu', input_shape=(-1,28,28,1),padding='same')(image)\n",
    "  layer2 = tf.keras.layers.MaxPooling2D(pool_size=(2, 2),strides=(2, 2), padding='same')(layer1)\n",
    "  layer3 = tf.keras.layers.Conv2D(16, 5, activation='relu', input_shape=(-1,14,14,1))(layer2)\n",
    "  layer4 = tf.keras.layers.MaxPooling2D(pool_size=(2, 2),strides=(2, 2), padding='same')(layer3)\n",
    "  return layer1,layer2,layer3,layer4\n"
   ]
  },
  {
   "cell_type": "code",
   "execution_count": 14,
   "metadata": {
    "id": "uMicRtxXZ_Rk"
   },
   "outputs": [],
   "source": [
    "layer1,layer2,layer3,layer4 = leNet(train_data[0])"
   ]
  },
  {
   "cell_type": "code",
   "execution_count": 15,
   "metadata": {
    "colab": {
     "base_uri": "https://localhost:8080/"
    },
    "id": "AjrkZG9laEvR",
    "outputId": "4324af5e-5719-4324-ae67-452907e98139"
   },
   "outputs": [
    {
     "data": {
      "text/plain": [
       "(TensorShape([1, 28, 28, 6]),\n",
       " TensorShape([1, 14, 14, 6]),\n",
       " TensorShape([1, 10, 10, 16]),\n",
       " TensorShape([1, 5, 5, 16]))"
      ]
     },
     "execution_count": 15,
     "metadata": {},
     "output_type": "execute_result"
    }
   ],
   "source": [
    "layer1.shape,layer2.shape,layer3.shape,layer4.shape"
   ]
  },
  {
   "cell_type": "markdown",
   "metadata": {
    "id": "6jX1sb9Je9PO"
   },
   "source": [
    "**Plotting layer 1 feature maps**"
   ]
  },
  {
   "cell_type": "code",
   "execution_count": 37,
   "metadata": {
    "colab": {
     "base_uri": "https://localhost:8080/",
     "height": 512
    },
    "id": "7pYtdlWicixs",
    "outputId": "6996d90f-ae06-442d-8e6e-db55032869be"
   },
   "outputs": [
    {
     "data": {
      "image/png": "[encoded data removed]",
      "text/plain": [
       "<Figure size 864x648 with 6 Axes>"
      ]
     },
     "metadata": {
      "needs_background": "light"
     },
     "output_type": "display_data"
    }
   ],
   "source": [
    "filters = layer1.numpy()[0]\n",
    "\n",
    "f, axarr = plt.subplots(2,3,figsize=(12,9))\n",
    "ptr=0\n",
    "for i in range(2):\n",
    "  for j in range(3):\n",
    "    axarr[i,j].imshow(filters[:,:,ptr])\n",
    "    ptr+=1"
   ]
  },
  {
   "cell_type": "markdown",
   "metadata": {
    "id": "-uHoFi2vuzB7"
   },
   "source": [
    "**Plotting layer 2 feature maps**"
   ]
  },
  {
   "cell_type": "code",
   "execution_count": 34,
   "metadata": {
    "colab": {
     "base_uri": "https://localhost:8080/",
     "height": 512
    },
    "id": "re-Ghw1pfCHf",
    "outputId": "1947d99f-6bfa-49d0-b1b8-3ac5034a4312"
   },
   "outputs": [
    {
     "data": {
      "image/png": "[encoded data removed]",
      "text/plain": [
       "<Figure size 864x648 with 6 Axes>"
      ]
     },
     "metadata": {
      "needs_background": "light"
     },
     "output_type": "display_data"
    }
   ],
   "source": [
    "filters = layer2.numpy()[0]\n",
    "\n",
    "f, axarr = plt.subplots(2,3,figsize=(12,9))\n",
    "ptr=0\n",
    "for i in range(2):\n",
    "  for j in range(3):\n",
    "    axarr[i,j].imshow(filters[:,:,ptr])\n",
    "    ptr+=1"
   ]
  },
  {
   "cell_type": "markdown",
   "metadata": {
    "id": "c5_Q6oUVu4Af"
   },
   "source": [
    "**plotting layer 3 feature maps**"
   ]
  },
  {
   "cell_type": "code",
   "execution_count": 35,
   "metadata": {
    "colab": {
     "base_uri": "https://localhost:8080/",
     "height": 537
    },
    "id": "XCqpdpwKfbOv",
    "outputId": "71e68fae-2ade-4274-fa65-c3f9602799b1"
   },
   "outputs": [
    {
     "data": {
      "image/png": "[encoded data removed]",
      "text/plain": [
       "<Figure size 864x648 with 16 Axes>"
      ]
     },
     "metadata": {
      "needs_background": "light"
     },
     "output_type": "display_data"
    }
   ],
   "source": [
    "filters = layer3.numpy()[0]\n",
    "\n",
    "f, axarr = plt.subplots(4,4,figsize=(12,9))\n",
    "ptr=0\n",
    "for i in range(4):\n",
    "  for j in range(4):\n",
    "    axarr[i,j].imshow(filters[:,:,ptr])\n",
    "    ptr+=1"
   ]
  },
  {
   "cell_type": "markdown",
   "metadata": {
    "id": "Clz4s1FLu8rX"
   },
   "source": [
    "**Plotting layer 4 feature maps**"
   ]
  },
  {
   "cell_type": "code",
   "execution_count": 36,
   "metadata": {
    "colab": {
     "base_uri": "https://localhost:8080/",
     "height": 537
    },
    "id": "zSzW1vTXiOVK",
    "outputId": "e0651cca-e16d-4c9e-db17-0b466c8394b1"
   },
   "outputs": [
    {
     "data": {
      "image/png": "[encoded data removed]",
      "text/plain": [
       "<Figure size 864x648 with 16 Axes>"
      ]
     },
     "metadata": {
      "needs_background": "light"
     },
     "output_type": "display_data"
    }
   ],
   "source": [
    "filters = layer4.numpy()[0]\n",
    "\n",
    "f, axarr = plt.subplots(4,4,figsize=(12,9))\n",
    "ptr=0\n",
    "for i in range(4):\n",
    "  for j in range(4):\n",
    "    axarr[i,j].imshow(filters[:,:,ptr])\n",
    "    ptr+=1"
   ]
  },
  {
   "cell_type": "code",
   "execution_count": 19,
   "metadata": {
    "id": "BB9ezYjHiWhC"
   },
   "outputs": [],
   "source": []
  }
 ],
 "metadata": {
  "accelerator": "GPU",
  "colab": {
   "collapsed_sections": [],
   "name": "deep_neural_net.ipynb",
   "provenance": []
  },
  "kernelspec": {
   "display_name": "Python 3 (ipykernel)",
   "language": "python",
   "name": "python3"
  },
  "language_info": {
   "codemirror_mode": {
    "name": "ipython",
    "version": 3
   },
   "file_extension": ".py",
   "mimetype": "text/x-python",
   "name": "python",
   "nbconvert_exporter": "python",
   "pygments_lexer": "ipython3",
   "version": "3.10.2"
  }
 },
 "nbformat": 4,
 "nbformat_minor": 1
}
